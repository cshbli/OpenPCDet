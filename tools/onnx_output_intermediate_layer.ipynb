{
 "cells": [
  {
   "attachments": {},
   "cell_type": "markdown",
   "metadata": {},
   "source": [
    "# Expand ONNX model to output intermediate layer result"
   ]
  },
  {
   "cell_type": "code",
   "execution_count": 11,
   "metadata": {},
   "outputs": [],
   "source": [
    "import onnx\n",
    "import onnxruntime\n",
    "import numpy as np\n",
    "\n",
    "model = onnx.load(\"../output/leishen_models/qat_conv_no_quant/quant_model.onnx\")\n",
    "model_path = \"../output/leishen_models/qat_conv_no_quant/quant_model_input_quant.onnx\"\n",
    "\n",
    "intermediate_layer_value_info = onnx.helper.ValueInfoProto()\n",
    "intermediate_layer_value_info.name = \"X.1_after_quant\"\n",
    "\n",
    "model.graph.output.extend([intermediate_layer_value_info])\n",
    "onnx.save(model, model_path)"
   ]
  },
  {
   "cell_type": "code",
   "execution_count": 12,
   "metadata": {},
   "outputs": [
    {
     "data": {
      "text/plain": [
       "True"
      ]
     },
     "execution_count": 12,
     "metadata": {},
     "output_type": "execute_result"
    }
   ],
   "source": [
    "torch_input = np.load(\"../../OpenPCDet/tools/input.npy\")\n",
    "onnx_input = np.load(\"onnx_input.npy\")\n",
    "(torch_input == onnx_input).all()"
   ]
  },
  {
   "cell_type": "code",
   "execution_count": 13,
   "metadata": {},
   "outputs": [
    {
     "data": {
      "text/plain": [
       "True"
      ]
     },
     "execution_count": 13,
     "metadata": {},
     "output_type": "execute_result"
    }
   ],
   "source": [
    "torch_input_quant = np.load(\"../../OpenPCDet/tools/input_quant.npy\")\n",
    "onnx_input_quant = np.load(\"onnx_input_quant.npy\")\n",
    "(torch_input_quant == onnx_input_quant).all()"
   ]
  },
  {
   "cell_type": "code",
   "execution_count": 7,
   "metadata": {},
   "outputs": [],
   "source": [
    "diff = onnx_input_quant - torch_input_quant"
   ]
  },
  {
   "cell_type": "code",
   "execution_count": 9,
   "metadata": {},
   "outputs": [
    {
     "name": "stdout",
     "output_type": "stream",
     "text": [
      "0.03125\n"
     ]
    }
   ],
   "source": [
    "print(np.amax(abs(diff)))"
   ]
  },
  {
   "cell_type": "code",
   "execution_count": 10,
   "metadata": {},
   "outputs": [
    {
     "name": "stdout",
     "output_type": "stream",
     "text": [
      "3542.0625\n"
     ]
    }
   ],
   "source": [
    "print(np.sum(abs(diff)))"
   ]
  }
 ],
 "metadata": {
  "kernelspec": {
   "display_name": "torch1.9.1",
   "language": "python",
   "name": "python3"
  },
  "language_info": {
   "codemirror_mode": {
    "name": "ipython",
    "version": 3
   },
   "file_extension": ".py",
   "mimetype": "text/x-python",
   "name": "python",
   "nbconvert_exporter": "python",
   "pygments_lexer": "ipython3",
   "version": "3.8.10"
  },
  "orig_nbformat": 4,
  "vscode": {
   "interpreter": {
    "hash": "29481b19616862e67e4bae0fd078da766e713ba66d65398c80d88a2e079c89da"
   }
  }
 },
 "nbformat": 4,
 "nbformat_minor": 2
}
